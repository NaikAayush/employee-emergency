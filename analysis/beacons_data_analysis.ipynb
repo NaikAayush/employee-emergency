{
 "cells": [
  {
   "cell_type": "code",
   "execution_count": 1,
   "metadata": {
    "ExecuteTime": {
     "end_time": "2021-04-11T17:26:09.518817Z",
     "start_time": "2021-04-11T17:26:09.512847Z"
    },
    "scrolled": true
   },
   "outputs": [],
   "source": [
    "import json\n",
    "\n",
    "with open(\"./data_proper.json\") as f:\n",
    "    text = f.read()\n",
    "#     print(text)\n",
    "#     print('{ \"data\":' + text[:-2] + '}')\n",
    "    data = json.loads(text)"
   ]
  },
  {
   "cell_type": "code",
   "execution_count": 3,
   "metadata": {
    "ExecuteTime": {
     "end_time": "2021-04-11T17:26:09.645588Z",
     "start_time": "2021-04-11T17:26:09.642203Z"
    },
    "scrolled": true
   },
   "outputs": [],
   "source": [
    "import pandas as pd\n",
    "from matplotlib import pyplot as plt"
   ]
  },
  {
   "cell_type": "code",
   "execution_count": 4,
   "metadata": {
    "ExecuteTime": {
     "end_time": "2021-04-11T17:26:09.658425Z",
     "start_time": "2021-04-11T17:26:09.649008Z"
    },
    "scrolled": true
   },
   "outputs": [],
   "source": [
    "df = pd.DataFrame(data)"
   ]
  },
  {
   "cell_type": "code",
   "execution_count": null,
   "metadata": {
    "ExecuteTime": {
     "end_time": "2021-04-11T17:26:09.735074Z",
     "start_time": "2021-04-11T17:26:09.660432Z"
    },
    "scrolled": true
   },
   "outputs": [],
   "source": [
    "df"
   ]
  },
  {
   "cell_type": "code",
   "execution_count": 6,
   "metadata": {
    "ExecuteTime": {
     "end_time": "2021-04-11T17:26:09.748634Z",
     "start_time": "2021-04-11T17:26:09.738435Z"
    },
    "scrolled": true
   },
   "outputs": [
    {
     "data": {
      "text/plain": [
       "dist         float64\n",
       "proximity     object\n",
       "rssi           int64\n",
       "tx             int64\n",
       "beaconNo      object\n",
       "dtype: object"
      ]
     },
     "execution_count": 6,
     "metadata": {},
     "output_type": "execute_result"
    }
   ],
   "source": [
    "df.dtypes"
   ]
  },
  {
   "cell_type": "code",
   "execution_count": 7,
   "metadata": {
    "ExecuteTime": {
     "end_time": "2021-04-11T17:26:09.765971Z",
     "start_time": "2021-04-11T17:26:09.755836Z"
    },
    "scrolled": true
   },
   "outputs": [],
   "source": [
    "sorted_df = df.sort_values(\"dist\")"
   ]
  },
  {
   "cell_type": "code",
   "execution_count": null,
   "metadata": {
    "ExecuteTime": {
     "end_time": "2021-04-11T17:26:10.230087Z",
     "start_time": "2021-04-11T17:26:10.013431Z"
    },
    "scrolled": true
   },
   "outputs": [],
   "source": [
    "plt.plot(sorted_df[\"dist\"], sorted_df[\"rssi\"])"
   ]
  },
  {
   "cell_type": "code",
   "execution_count": null,
   "metadata": {
    "ExecuteTime": {
     "end_time": "2021-04-11T17:26:11.932924Z",
     "start_time": "2021-04-11T17:26:11.766427Z"
    },
    "scrolled": true
   },
   "outputs": [],
   "source": [
    "plt.plot(sorted_df[\"dist\"], sorted_df[\"tx\"])"
   ]
  },
  {
   "cell_type": "code",
   "execution_count": 12,
   "metadata": {
    "ExecuteTime": {
     "end_time": "2021-04-11T17:26:59.460810Z",
     "start_time": "2021-04-11T17:26:59.456849Z"
    },
    "scrolled": true
   },
   "outputs": [],
   "source": [
    "# import numpy as np"
   ]
  },
  {
   "cell_type": "code",
   "execution_count": null,
   "metadata": {
    "ExecuteTime": {
     "end_time": "2021-04-11T17:27:32.070151Z",
     "start_time": "2021-04-11T17:27:31.443054Z"
    },
    "scrolled": true
   },
   "outputs": [],
   "source": [
    "fig, axs = plt.subplots(nrows=3, figsize=(16, 8))\n",
    "\n",
    "for (group_id, group), ax in zip(sorted_df.groupby(\"beaconNo\"), axs):\n",
    "    ax.plot(group[\"dist\"], (group[\"rssi\"]))\n",
    "    ax.set_title(f\"Beacon {group_id}\")\n",
    "    ax.set_xlabel(\"Distance (in m)\")\n",
    "    ax.set_ylabel(\"RSSI (in dB)\")\n",
    "    \n",
    "fig.tight_layout()\n",
    "fig.set_facecolor(\"white\")\n",
    "fig.savefig(\"all_beacons.png\")"
   ]
  }
 ],
 "metadata": {
  "kernelspec": {
   "display_name": "Python 3",
   "language": "python",
   "name": "python3"
  },
  "language_info": {
   "codemirror_mode": {
    "name": "ipython",
    "version": 3
   },
   "file_extension": ".py",
   "mimetype": "text/x-python",
   "name": "python",
   "nbconvert_exporter": "python",
   "pygments_lexer": "ipython3",
   "version": "3.8.6"
  },
  "toc": {
   "base_numbering": 1,
   "nav_menu": {},
   "number_sections": true,
   "sideBar": true,
   "skip_h1_title": false,
   "title_cell": "Table of Contents",
   "title_sidebar": "Contents",
   "toc_cell": false,
   "toc_position": {},
   "toc_section_display": true,
   "toc_window_display": false
  }
 },
 "nbformat": 4,
 "nbformat_minor": 4
}
